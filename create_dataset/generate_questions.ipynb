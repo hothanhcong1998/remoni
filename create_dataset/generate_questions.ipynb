{
 "cells": [
  {
   "cell_type": "code",
   "execution_count": 25,
   "metadata": {},
   "outputs": [],
   "source": [
    "import os\n",
    "import re\n",
    "import random\n",
    "import datetime"
   ]
  },
  {
   "cell_type": "code",
   "execution_count": 26,
   "id": "7da09639",
   "metadata": {},
   "outputs": [
    {
     "name": "stdout",
     "output_type": "stream",
     "text": [
      "['Give me the current <vital_sign> of the patient <patient_id>.', 'Provide me the <vital_sign> and <vital_sign> of the patient <patient_id> in the last <num_day> days.', 'Show me the current image of the patient <patient_id>.', \"What is the patient <patient_id> doing and what is the patient's mood at <time>pm?\", 'Give me plots of patient <patient_id> <vital_sign> and <vital_sign> from <time>am to <time>pm.', 'What was the <vital_sign> for patient <patient_id> yesterday at <time>am?', 'Retrieve the <vital_sign> data of patient <patient_id> between <date1> and <date2>.', 'Can I have the <vital_sign> readings for patient <patient_id> over the last <num_hour> hours?', 'Display the historical data for <vital_sign> of patient <patient_id> for the past <num_day> days.', \"Show me the patient's <vital_sign> recorded at each 30-min interval from 9am to 5pm today.\", 'What was the <vital_sign> of patient <patient_id> last week?', 'Provide the activity of patient <patient_id> during <time>pm on <date>.', 'What was the mood of patient <patient_id> captured at this time yesterday?', 'Can you show me the trend of <vital_sign> for patient <patient_id> since last Monday?', \"Retrieve patient's <patient_id> <vital_sign> and <vital_sign> recorded on <date>.\", 'How has the <vital_sign> of patient <patient_id> changed in the last <num_day>?', 'Provide all images taken of patient <patient_id> over the past <num_day> days.', 'Give me the readings of <vital_sign> and <vital_sign> for patient <patient_id> at every hour today.', 'Show me the <vital_sign> levels for patient <patient_id> today at intervals of 30 minutes.', 'What were the recorded <vital_sign> values of patient <patient_id> yesterday morning?', 'Can I have the <vital_sign> of patient <patient_id> from <time>am to now?', 'Provide the visual data for patient <patient_id> at <time>pm.', 'What images were taken of patient <patient_id> on <date>?', \"Retrieve the last recorded emotion of patient <patient_id> during today's session.\", \"What is the historical pattern for patient <patient_id>'s <vital_sign> over the last <num_day> days?\", 'Show me the logs of activity for patient <patient_id> captured in the afternoon today.', \"What were the patient's <vital_sign> and <vital_sign> recorded at this time on each of the past two days?\", 'Provide the <vital_sign> variability for patient <patient_id> within the last <num_hour> hours.', \"How does patient <patient_id>'s <vital_sign> vary over the last <num_week> weeks?\", 'When was the last recorded activity for patient <patient_id>?', 'What is the pattern in <vital_sign> readings for patient <patient_id> this week?', 'Display the sequence of images for patient <patient_id> since yesterday.', 'Can you retrieve the historical data on <vital_sign> and <vital_sign> of patient <patient_id> for <num_month> months ago?', \"Provide a summary of patient <patient_id>'s <vital_sign> recorded in the morning today.\", \"Show me patient <patient_id>'s <vital_sign> and <vital_sign> rates from <num_week> weeks ago.\", 'Give an analysis of <vital_sign> recorded for patient <patient_id> in the last <num_day> days.', 'Display the <vital_sign> values recorded for patient <patient_id> during last night.', 'What was the latest image captured for patient <patient_id> today?', 'Retrieve the <vital_sign> of patient <patient_id> every 30 minutes for the previous day.', \"Can I get a detailed report of patient <patient_id>'s <vital_sign> values on the weekend?\", \"Can you show me patient <patient_id>'s <vital_sign> trend over the last <num_week> weeks?\", 'Provide the sequence of activities for patient <patient_id> between noon and midnight yesterday.', 'What were the <vital_sign> levels of patient <patient_id> at the start of each hour today?', 'Can you give me a summary of <vital_sign> recorded for patient <patient_id> in the evening yesterday?', 'Show me historical data of <vital_sign> for patient <patient_id> on each Friday of October.', \"Present patient <patient_id>'s <vital_sign> data for the last Saturday.\", 'Provide a timeline of recorded activities and moods for patient <patient_id> on <date>.', 'Can I have the <vital_sign> values at every <num_minute> interval for patient <patient_id> on <date>?', 'Retrieve the set of images captured after 5 pm for patient <patient_id> today.', \"Show me the patient's <vital_sign> deviation for each day over the past week.\", 'What was the peak <vital_sign> recorded for patient <patient_id> since this morning?', 'Can you provide the <vital_sign> logs for patient <patient_id> over the past <num_hour> hours?', 'Show me the <vital_sign> and <vital_sign> graphs for patient <patient_id> from the afternoon of <date>.', 'Retrieve the sequence of recorded <vital_sign> data for patient <patient_id> from last night.', 'What was the activity of patient <patient_id> documented at midnight?', 'Provide the <vital_sign> levels of patient <patient_id> available for this week.', 'Can you give me the current <vital_sign> trend for patient <patient_id> over the last <num_minute> minutes?', \"Show a timeline of patient <patient_id>'s <vital_sign> recorded every hour today.\", 'How has the <vital_sign> of patient <patient_id> fluctuated from <time>am onwards?', 'What emotions have been captured for patient <patient_id> in the last six hours?', 'Provide images of patient <patient_id> from yesterday evening.', \"Can I view the pattern in patient <patient_id>'s <vital_sign> readings every two hours this month?\", 'Retrieve all <vital_sign> logged in for patient <patient_id> for the past fortnight.', 'What <vital_sign> data was recorded for patient <patient_id> from noon to <time>pm over the last weekend?', 'Provide a detailed list of <vital_sign> and <vital_sign> readings for patient <patient_id> by the hour for the last <num_day> days.', 'Show data on <vital_sign> recorded for patient <patient_id> on each day of this past week.', 'What was the <vital_sign> trend for patient <patient_id> at the start of each hour today?', 'Can you summarize the <vital_sign> trend for patient <patient_id> over the past <num_month> months?', 'What are the recorded activities today for patient <patient_id> by the hour?', 'Provide records of <vital_sign> fluctuations for patient <patient_id> this morning.', \"Give me a breakdown of patient <patient_id>'s <vital_sign> fluctuations for each day last week.\", 'What was the average <vital_sign> of patient <patient_id> in the early morning?', 'Retrieve the <vital_sign> for patient <patient_id> from noon.', 'Can I have a summary of captured images for patient <patient_id> over the last <num_minute> minutes?', 'Show the progress in <vital_sign> for patient <patient_id> compared from two weeks ago to now.', 'What are the common activities recorded for patient <patient_id> this past month?', 'Provide detailed <vital_sign> statistics for patient <patient_id> every <num_hour> hours for the entire day.', 'What were the top emotions captured for patient <patient_id> during late hours last night?', \"Display images for patient <patient_id> during yesterday's evening.\", 'Can you map out the <vital_sign> changes for patient <patient_id> from <time>pm to <time>pm two days ago?', 'How has the <vital_sign> for patient <patient_id> varied today?', 'Provide a summary of recorded <vital_sign> and associated timestamps for patient <patient_id> since midnight.', \"What are the variations noted in patient <patient_id>'s <vital_sign> yesterday morning?\", 'Retrieve the list of moods shared for patient <patient_id> in the night on <date>.', 'What is the daily average <vital_sign> for patient <patient_id> during the past week?', \"Show data on patient <patient_id>'s <vital_sign> at midday, recorded every day this month.\", 'Present the <vital_sign> variation for patient <patient_id> every 30 minutes since <time>am.', 'Provide a chronological list of <vital_sign> for patient <patient_id> from last evening.', \"What was the pattern of patient <patient_id>'s <vital_sign> this noon?\", 'Can I have the image data of different moods captured for patient <patient_id> since <time>am today?', 'What are the consistent <vital_sign> noted for patient <patient_id> every <time>am this week?', 'Retrieve the succession of <vital_sign> data for patient <patient_id> since sunrise.', 'Provide an account of <vital_sign> readings for patient <patient_id> the past <num_day> days.', 'Show historical data showing the evening <vital_sign> pattern of patient <patient_id>.', 'What activities were recorded for patient <patient_id> at <time>pm on <date>?', 'Can you analyze the variations in <vital_sign> for patient <patient_id> since the weekend?', \"Show the day's emotional progression and activities of patient <patient_id> from <time>am to <time>pm.\", 'Provide a report on the highest recorded <vital_sign> for patient <patient_id> for each day last month.', 'What was the recorded <vital_sign> for patient <patient_id> at <time>pm?', 'Retrieve the <vital_sign> data for patient <patient_id> since <time>am.', 'Can I have a detailed list of <vital_sign> observations for patient <patient_id> covering all night hours last <num_day> days?', 'Show me all <vital_sign> readings for patient <patient_id> at 30-minute intervals over last weekend.', 'What were the <vital_sign> levels of patient <patient_id> during Monday mornings in the past month?', \"Provide data on how patient <patient_id>'s <vital_sign> varied on evenings last week from <time>pm to midnight.\", \"Can you retrieve the sequence of patient <patient_id>'s <vital_sign> throughout the afternoon?\", 'Give me the current <vital_sign> of the patient <patient_id>.', 'Provide me the current <vital_sign> of the patient <patient_id>.', \"Please provide a detailed summary of patient <patient_id>'s <vital_sign> data over the past <num_hour> hours.\", 'What images and associated emotions were captured for patient <patient_id> on <date>?', 'Retrieve all the <vital_sign> and <vital_sign> variations for patient <patient_id> for the past <num_day> days.', 'Can you provide the <vital_sign> trend of patient <patient_id> from <time>am to <time>am each day this week?', 'How did <vital_sign> levels for patient <patient_id> change at every recorded instance yesterday?', 'Present the sequence of recorded <vital_sign> for patient <patient_id> from midnight to morning.', \"What were patient <patient_id>'s <vital_sign> patterns in the evening over the last <num_day> days?\", 'Show me images from patient <patient_id> taken over the previous weekend.', 'Provide a summary of <vital_sign> data for patient <patient_id> logged in the morning.', 'Can you explore the trends in <vital_sign> and <vital_sign> for patient <patient_id> post-afternoon meals this week?', 'Retrieve mood dynamics captured for patient <patient_id> from morning till evening the day before yesterday.', \"What has been the hourly change in patient <patient_id>'s <vital_sign> since <date>?\", 'Show the changes in <vital_sign> of patient <patient_id> from <time>pm to <time>pm.', 'Provide the list of <vital_sign> readings for patient <patient_id> from <time>am today.', 'What <vital_sign> were documented for patient <patient_id> at midnight over the past week?', 'Can you give a detailed list of <vital_sign> readings for patient <patient_id> at dawn each day for the past fortnight?', \"What was the body's overall temperature pattern for patient <patient_id> over lunch time yesterday?\", 'Retrieve the <vital_sign> recordings for patient <patient_id> on each Sunday evening in the last <num_month> months.', 'Show trends in <vital_sign> for patient <patient_id> from the morning up to noon.', 'How did r<vital_sign> for patient <patient_id> fluctuate past midnight today?', 'Provide collected <vital_sign> data of patient <patient_id> captured at 30-minute intervals yesterday.', 'What were the moods of patient <patient_id> from <time> AM to <time> AM each day this week?', 'Can I have a summary of <vital_sign> recorded for patient <patient_id> every hour last Sunday?', 'Retrieve the <vital_sign> of patient <patient_id> measured hourly since last Monday.', \"How did patient <patient_id>'s morning emotions differ from each other for the past two days?\", 'What are the most significant variations in <vital_sign> for patient <patient_id> over every half-hour today?', \"Provide insights into patient <patient_id>'s <vital_sign> deviations recorded at noon time over the past month.\", 'Show me the <vital_sign> values for patient <patient_id> captured every two hours over the last weekend.', 'Can you retrieve the complete list of <vital_sign> of patient <patient_id> on every day of last week?', 'What were the trends in <vital_sign> for patient <patient_id> since last Thursday afternoon up to now?', 'Provide a summary of <vital_sign> changes for patient <patient_id> during mornings over the past <num_week> weeks.', 'What was the pattern and progression of mood states for patient <patient_id> yesterday?', 'Show sequential <vital_sign> data for patient <patient_id> every hour during today.', 'Can you give me a detailed summary of <vital_sign> and <vital_sign> for patient <patient_id> since the beginning of this year?', 'Retrieve the <vital_sign> readings for patient <patient_id> from this morning till the current time.', 'What are the hourly records for <vital_sign> of patient <patient_id> today?', 'Please provide the <vital_sign> readings for patient <patient_id> captured at <time>am daily throughout this week.', 'Show the <vital_sign> recorded daily for patient <patient_id> each afternoon during last October.', 'What were the <vital_sign> fluctuations for patient <patient_id> during last Saturday?', 'Can you provide an analysis of <vital_sign> changes for patient <patient_id> throughout various weekends this month?', 'What differences in <vital_sign> were noted for patient <patient_id> from <time>pm to <time>pm for the past three days?', 'Retrieve the hourly sequence of <vital_sign> and <vital_sign> readings for patient <patient_id> from last Tuesday.', \"How has patient <patient_id>'s <vital_sign> varied over the past week?\", 'Show me the daily <vital_sign> averages for patient <patient_id> for the last <num_day> mornings.', 'Provide all images recorded and their associated emotions for patient <patient_id> from last night.', 'What were the recorded <vital_sign> for patient <patient_id> each hour during the last Monday?', 'Can you summarize the variations in <vital_sign> for patient <patient_id> during afternoons this week?', 'Retrieve images and recorded <vital_sign> for patient <patient_id> between <time>am and <time>pm today.', 'Provide a breakdown of <vital_sign> readings for patient <patient_id> before noon today.', 'What was the <vital_sign> pattern for patient <patient_id> from <time>am to <time>am on the first Monday of this month?', 'What is the current <vital_sign> of the patient <patient_id>?', 'Can you display the detailed <vital_sign> pattern of patient <patient_id> for the last <num_hour> hours?', 'How has the <vital_sign> of patient <patient_id> changed during evenings in the last month?', \"Retrieve recorded changes in <vital_sign> for patient <patient_id> since today's morning.\", 'Provide all recorded visuals with detailed annotations for patient <patient_id> during the morning session.', 'What were the trends in <vital_sign> for patient <patient_id> during the evenings over the last <num_day> days?', 'Can you suggest patterns in <vital_sign> for patient <patient_id> captured every sunrise last week?', 'Show me the list of documented <vital_sign> data for patient <patient_id> at noon each day this month.', 'Retrieve an overview of <vital_sign> levels for patient <patient_id> through afternoon hours yesterday.', 'Present <vital_sign> trends for patient <patient_id> observed during the night over the past two weekends.', 'Provide a comprehensive summary of <vital_sign> for patient <patient_id> recorded on afternoons this month.', 'What were the images captured of patient <patient_id> this evening, and their related moods?', 'Can you display summaries of <vital_sign> dynamics for patient <patient_id> during the evenings over the past week?', 'Show recorded <vital_sign> of patient <patient_id> from <time>am to <time>pm over the last couple of days.', 'What was the maximum <vital_sign> level for patient <patient_id> during the last <num_day> nights?', 'What are the most significant fluctuations in <vital_sign> noted for patient <patient_id> during early hours this week?', 'Show me the changes in <vital_sign> of patient <patient_id> during the past weekday mornings.', 'What has been the <vital_sign> pattern for patient <patient_id> every night in the past fortnight?', 'Show me the list of <vital_sign> readings for patient <patient_id> between <time>am and <time>pm over the last <num_week> weeks.', 'Present the timeline of <vital_sign> changes for patient <patient_id> over last weekend mornings.', \"How did patient's <patient_id> <vital_sign> change during each weekend morning this year?\", 'Can you display the historical <vital_sign> logs for patient <patient_id> during weekend days in last February?', 'What was the <vital_sign> pattern of patient <patient_id> recorded this Sunday?', 'Retrieve the sequential changes in <vital_sign> for patient <patient_id> on every Thursday this month.', 'Show the <vital_sign> readings for patient <patient_id> during this afternoon.', 'What were the variations in <vital_sign> for patient <patient_id> captured during evening hours each Monday this month?', 'Can you display comprehensive <vital_sign> records for patient <patient_id> from every morning last <num_day> days?', 'What trends in <vital_sign> were observed for patient <patient_id> captured from midnight to <time>am this week?', 'Show the <vital_sign> plot for patient <patient_id> documented after noon today.', 'Provide the <vital_sign> records for patient <patient_id> for the entire day yesterday.', 'Retrieve <vital_sign> for patient <patient_id> recorded from noon to <time>pm this week.', 'What was the <vital_sign> of patient <patient_id> every hour for the last <num_day> days?', 'Show a progression graph of <vital_sign> changes for patient <patient_id> during each recorded session today.', 'Provide a detailed report on vital signs for patient <patient_id> throughout each evening this weekend.', 'Can you provide a summary of <vital_sign> statistics for patient <patient_id> from midnight to <time>am?', 'Retrieve all visuals with the corresponding mood annotations captured for patient <patient_id> today.', 'Present the <vital_sign> readings for patient <patient_id> at <time>am each day from <date1> to <date2>.', 'What were the recorded <vital_sign> observations for patient <patient_id> from <time>am to <time>am between <date1> and <date2>?', 'Show the sequence of <vital_sign> recordings for patient <patient_id> during the afternoons between <date1> and <date2>.', 'Can you analyze the vital sign data collected for patient <patient_id> from midnight to noon today?', 'What were the <vital_sign> recorded for patient <patient_id> at noon from <date1> to <date2>?', 'Provide a summarized list of <vital_sign> readings for patient <patient_id> every 30 minutes during the evening yesterday.', 'Retrieve the <vital_sign> readings for patient <patient_id> at 30-minute intervals since midnight today.']\n"
     ]
    }
   ],
   "source": [
    "# Path to the file\n",
    "file_path = '/home/thanh.ho/create_dataset/question_formats.txt'\n",
    "\n",
    "# Initialize an empty list to store the questions\n",
    "questions = []\n",
    "\n",
    "# Open the file in read mode\n",
    "with open(file_path, 'r') as file:\n",
    "    # Iterate over each line in the file\n",
    "    for line in file:\n",
    "        # Split the line at the period and take the second part to remove the order number\n",
    "        question = line.split('. ', 1)[1].strip() if '. ' in line else line.strip()\n",
    "        # Add the cleaned question to the list\n",
    "        questions.append(question)\n",
    "\n",
    "# Now you have all the questions in the 'questions' array without order numbers\n",
    "print(questions)"
   ]
  },
  {
   "cell_type": "code",
   "execution_count": 27,
   "id": "b50d0d12",
   "metadata": {},
   "outputs": [
    {
     "data": {
      "text/plain": [
       "{'date',\n",
       " 'date1',\n",
       " 'date2',\n",
       " 'num_day',\n",
       " 'num_hour',\n",
       " 'num_minute',\n",
       " 'num_month',\n",
       " 'num_week',\n",
       " 'patient_id',\n",
       " 'time',\n",
       " 'vital_sign'}"
      ]
     },
     "execution_count": 27,
     "metadata": {},
     "output_type": "execute_result"
    }
   ],
   "source": [
    "# List out types of tag\n",
    "tags = []\n",
    "for question in questions:\n",
    "    pattern = r\"<(.*?)>\"\n",
    "    # Find all matches in the sentence and return them as a list\n",
    "    tags_one = re.findall(pattern, question)\n",
    "    tags = tags + tags_one\n",
    "set(tags)\n",
    "\n"
   ]
  },
  {
   "cell_type": "code",
   "execution_count": 28,
   "id": "4be793f0",
   "metadata": {},
   "outputs": [
    {
     "name": "stdout",
     "output_type": "stream",
     "text": [
      "Provide the activity of patient <patient_id> during <time>pm on <date>.\n",
      "Retrieve patient's <patient_id> <vital_sign> and <vital_sign> recorded on <date>.\n",
      "What images were taken of patient <patient_id> on <date>?\n",
      "Provide a timeline of recorded activities and moods for patient <patient_id> on <date>.\n",
      "Can I have the <vital_sign> values at every <num_minute> interval for patient <patient_id> on <date>?\n",
      "Show me the <vital_sign> and <vital_sign> graphs for patient <patient_id> from the afternoon of <date>.\n",
      "Retrieve the list of moods shared for patient <patient_id> in the night on <date>.\n",
      "What activities were recorded for patient <patient_id> at <time>pm on <date>?\n",
      "What images and associated emotions were captured for patient <patient_id> on <date>?\n",
      "What has been the hourly change in patient <patient_id>'s <vital_sign> since <date>?\n"
     ]
    }
   ],
   "source": [
    "#tags = []\n",
    "for question in questions:\n",
    "    pattern = r\"<(.*?)>\"\n",
    "    # Find all matches in the sentence and return them as a list\n",
    "    tags_one = re.findall(pattern, question)\n",
    "    if 'date' in tags_one: print(question)\n",
    "    #tags = tags + tags_one\n",
    "#set(tags)\n"
   ]
  },
  {
   "cell_type": "code",
   "execution_count": 29,
   "id": "a978c9f2",
   "metadata": {},
   "outputs": [
    {
     "data": {
      "text/plain": [
       "29"
      ]
     },
     "execution_count": 29,
     "metadata": {},
     "output_type": "execute_result"
    }
   ],
   "source": [
    "count = 0\n",
    "\n",
    "for question in questions:\n",
    "    pattern = r\"<(.*?)>\"\n",
    "    # Find all matches in the sentence and return them as a list\n",
    "    tags_one = re.findall(pattern, question)\n",
    "    if len(tags_one)==1: \n",
    "        count+=1\n",
    "count"
   ]
  },
  {
   "cell_type": "code",
   "execution_count": 30,
   "id": "da26e3f7",
   "metadata": {},
   "outputs": [
    {
     "data": {
      "text/plain": [
       "('May 28', 'Jul 22')"
      ]
     },
     "execution_count": 30,
     "metadata": {},
     "output_type": "execute_result"
    }
   ],
   "source": [
    "# Random single date or a pair of dates\n",
    "def random_date_pair():\n",
    "    # Generate date1 randomly\n",
    "    month1 = random.randint(1, 12)\n",
    "    day1 = random.randint(1, 28 if month1 == 2 else 30 if month1 in [4, 6, 9, 11] else 31)\n",
    "    date1 = datetime.date(2000, month1, day1)  # Year is a placeholder\n",
    "\n",
    "    # Generate date2 such that it is after date1\n",
    "    month2 = random.randint(month1, 12)\n",
    "    if month1 == month2:\n",
    "        day2 = random.randint(day1, 28 if month2 == 2 else 30 if month2 in [4, 6, 9, 11] else 31)\n",
    "    else:\n",
    "        day2 = random.randint(1, 28 if month2 == 2 else 30 if month2 in [4, 6, 9, 11] else 31)\n",
    "    date2 = datetime.date(2000, month2, day2)  # Year is a placeholder\n",
    "\n",
    "    return date1.strftime('%b %d'), date2.strftime('%b %d')\n",
    "\n",
    "def random_single_date():\n",
    "    # Generate a single random date\n",
    "    month = random.randint(1, 12)\n",
    "    day = random.randint(1, 28 if month == 2 else 30 if month in [4, 6, 9, 11] else 31)\n",
    "    date = datetime.date(2000, month, day)  # Year is a placeholder\n",
    "    return date.strftime('%b %d')\n",
    "\n",
    "random_date_pair()"
   ]
  },
  {
   "cell_type": "code",
   "execution_count": 31,
   "id": "1ebb1ee6",
   "metadata": {},
   "outputs": [
    {
     "data": {
      "text/plain": [
       "'diastolic pressure'"
      ]
     },
     "execution_count": 31,
     "metadata": {},
     "output_type": "execute_result"
    }
   ],
   "source": [
    "def random_num_hour():\n",
    "    # Define possible hour options including 1-24 and specific values\n",
    "    hours = list(range(2, 25)) + [36, 48, 60, 72]\n",
    "    # Randomly select an hour from the list\n",
    "    return random.choice(hours)\n",
    "\n",
    "def random_num_day():\n",
    "    # Define possible hour options including 1-24 and specific values\n",
    "    hours = list(range(2, 30)) + [45, 60, 90, 120]\n",
    "    # Randomly select an hour from the list\n",
    "    return random.choice(hours)\n",
    "\n",
    "def random_num_minute():\n",
    "    # Define possible minute options from 0 up to 270 (divisible by 30 and less than 300)\n",
    "    minutes = [i for i in range(30, 300, 30)]\n",
    "    # Randomly select a minute from the list\n",
    "    return random.choice(minutes)\n",
    "\n",
    "def random_num_month():\n",
    "    # Define possible minute options from 0 up to 270 (divisible by 30 and less than 300)\n",
    "    minutes = [i for i in range(2, 13)]\n",
    "    # Randomly select a minute from the list\n",
    "    return random.choice(minutes)\n",
    "\n",
    "def random_num_week():\n",
    "    # Define possible minute options from 0 up to 270 (divisible by 30 and less than 300)\n",
    "    minutes = [i for i in range(2, 9)]\n",
    "    # Randomly select a minute from the list\n",
    "    return random.choice(minutes)\n",
    "\n",
    "def random_patient_id():\n",
    "    # Generate a random number between 1 and 99999\n",
    "    patient_id = random.randint(1, 9999)\n",
    "    # Format the number to be zero-padded to five digits\n",
    "    formatted_patient_id = f\"{patient_id:05d}\"\n",
    "    return formatted_patient_id\n",
    "\n",
    "def random_time(count=1):\n",
    "    if count == 1:\n",
    "        # Return a single random number between 1 and 12\n",
    "        return random.randint(1, 12)\n",
    "    elif count == 2:\n",
    "        # Generate two random numbers, ensuring the first is less than the second\n",
    "        first = random.randint(1, 11)  # Limit the first to 1-11 to ensure there is a higher number available\n",
    "        second = random.randint(first + 1, 12)  # Ensure the second is always greater than the first\n",
    "        return (first, second)\n",
    "\n",
    "def random_vital_signs(count=1):\n",
    "    # List of all possible vital signs\n",
    "    vital_signs = [\"heart rate\", \"systolic pressure\", \"diastolic pressure\",\n",
    "                   \"body temperature\", \"oxygen saturation\", \"respiratory rate\", \"blood pressure\"]\n",
    "    \n",
    "    if count == 1:\n",
    "        # Return a single random vital sign\n",
    "        return random.choice(vital_signs)\n",
    "    elif count == 2:\n",
    "        # Randomly choose a first vital sign\n",
    "        first = random.choice(vital_signs)\n",
    "        # Prepare a list for the second selection that excludes problematic combinations\n",
    "        allowed_second = [vs for vs in vital_signs if vs != first and not \n",
    "                          ((first == \"systolic pressure\" and vs == \"blood pressure\") or\n",
    "                           (first == \"diastolic pressure\" and vs == \"blood pressure\") or\n",
    "                           (vs == \"systolic pressure\" and first == \"blood pressure\") or\n",
    "                           (vs == \"diastolic pressure\" and first == \"blood pressure\"))]\n",
    "        \n",
    "        # Randomly choose a second vital sign from the filtered list\n",
    "        second = random.choice(allowed_second)\n",
    "        return (first, second)\n",
    "    \n",
    "random_vital_signs(1)"
   ]
  },
  {
   "cell_type": "code",
   "execution_count": 32,
   "id": "88c07f7b",
   "metadata": {},
   "outputs": [
    {
     "data": {
      "text/plain": [
       "'Provide me the oxygen saturation and heart rate of the patient 07398 in the last 22 days.'"
      ]
     },
     "execution_count": 32,
     "metadata": {},
     "output_type": "execute_result"
    }
   ],
   "source": [
    "def process_sentence(sentence):\n",
    "    # Find all tags in the sentence\n",
    "    tags = re.findall(r\"<(.*?)>\", sentence)\n",
    "    tag_counts = {tag: tags.count(tag) for tag in set(tags)}\n",
    "\n",
    "    # Generate values for each tag based on their count\n",
    "    tag_values = {}\n",
    "    for tag, count in tag_counts.items():\n",
    "        if tag == \"vital_sign\":\n",
    "            tag_values[tag] = random_vital_signs(count)\n",
    "        elif tag == \"time\":\n",
    "            tag_values[tag] = random_time(count)\n",
    "        elif tag == \"date1\" or tag == \"date2\":\n",
    "            tag_values[\"date1\"], tag_values[\"date2\"] = random_date_pair()\n",
    "        elif tag == \"date\":\n",
    "            tag_values[tag] = random_single_date()\n",
    "        elif tag == \"num_day\":\n",
    "            tag_values[tag] = random_num_day()\n",
    "        elif tag == \"num_hour\":\n",
    "            tag_values[tag] = random_num_hour()\n",
    "        elif tag == \"num_minute\":\n",
    "            tag_values[tag] = random_num_minute()\n",
    "        elif tag == \"num_month\":\n",
    "            tag_values[tag] = random_num_month()\n",
    "        elif tag == \"num_week\":\n",
    "            tag_values[tag] = random_num_week()\n",
    "        elif tag == \"patient_id\":\n",
    "            tag_values[tag] = random_patient_id()\n",
    "        \n",
    "        # Continue with other tags and their specific random functions\n",
    "\n",
    "    # Replace all tags in the original sentence with their corresponding random values\n",
    "    for tag, values in tag_values.items():\n",
    "        if isinstance(values, tuple):\n",
    "            for value in values:\n",
    "                sentence = re.sub(f\"<{tag}>\", str(value), sentence, 1)\n",
    "        else:\n",
    "            sentence = sentence.replace(f\"<{tag}>\", str(values))\n",
    "\n",
    "    return sentence\n",
    "\n",
    "temp = 'Provide me the <vital_sign> and <vital_sign> of the patient <patient_id> in the last <num_day> days.'\n",
    "process_sentence(temp)"
   ]
  },
  {
   "cell_type": "code",
   "execution_count": 36,
   "id": "1540ed0f",
   "metadata": {},
   "outputs": [
    {
     "data": {
      "text/plain": [
       "1000"
      ]
     },
     "execution_count": 36,
     "metadata": {},
     "output_type": "execute_result"
    }
   ],
   "source": [
    "processed_questions = []\n",
    "for i in range(5):\n",
    "    for question in questions:\n",
    "        processed_questions.append(process_sentence(question))\n",
    "len(processed_questions)"
   ]
  },
  {
   "cell_type": "code",
   "execution_count": 37,
   "id": "079a1005",
   "metadata": {},
   "outputs": [],
   "source": [
    "with open('questions.txt', 'w') as file:\n",
    "    for question in processed_questions:\n",
    "        file.write(question + '\\n')"
   ]
  },
  {
   "cell_type": "code",
   "execution_count": 38,
   "id": "048cece6",
   "metadata": {},
   "outputs": [
    {
     "name": "stdout",
     "output_type": "stream",
     "text": [
      "Give me the current body temperature of the patient 02285.\n",
      "Provide me the respiratory rate and systolic pressure of the patient 05419 in the last 19 days.\n",
      "Show me the current image of the patient 09751.\n",
      "What is the patient 08744 doing and what is the patient's mood at 4pm?\n",
      "Give me plots of patient 03544 respiratory rate and oxygen saturation from 10am to 12pm.\n"
     ]
    }
   ],
   "source": [
    "for i in range(5):\n",
    "    print(processed_questions[i])"
   ]
  }
 ],
 "metadata": {
  "kernelspec": {
   "display_name": "Python 3",
   "language": "python",
   "name": "python3"
  },
  "language_info": {
   "codemirror_mode": {
    "name": "ipython",
    "version": 3
   },
   "file_extension": ".py",
   "mimetype": "text/x-python",
   "name": "python",
   "nbconvert_exporter": "python",
   "pygments_lexer": "ipython3",
   "version": "3.10.12"
  }
 },
 "nbformat": 4,
 "nbformat_minor": 5
}
